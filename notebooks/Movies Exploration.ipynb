{
 "cells": [
  {
   "cell_type": "code",
   "execution_count": 1,
   "metadata": {
    "collapsed": false,
    "deletable": true,
    "editable": true
   },
   "outputs": [],
   "source": [
    "import pandas as pd\n",
    "import numpy as np\n",
    "\n",
    "import seaborn as sns\n",
    "import matplotlib.pyplot as plt\n",
    "%matplotlib inline\n",
    "\n",
    "import os\n",
    "from os.path import join, split\n",
    "\n",
    "data_path = (join(\n",
    "    split(os.getcwd())[0],'data'))"
   ]
  },
  {
   "cell_type": "code",
   "execution_count": 2,
   "metadata": {
    "collapsed": true,
    "deletable": true,
    "editable": true
   },
   "outputs": [],
   "source": [
    "movies = pd.read_csv(\n",
    "  join(data_path, 'ml-1m', 'movies.dat'),\n",
    "  sep='%',\n",
    "  encoding='latin-1',\n",
    "  header=None,\n",
    "  names=['MovieID', 'Title', 'Genres'])"
   ]
  },
  {
   "cell_type": "markdown",
   "metadata": {
    "deletable": true,
    "editable": true
   },
   "source": [
    "## What are the possible ratings?"
   ]
  },
  {
   "cell_type": "code",
   "execution_count": 3,
   "metadata": {
    "collapsed": false,
    "deletable": true,
    "editable": true
   },
   "outputs": [
    {
     "data": {
      "text/plain": [
       "array([5, 3, 4, 2, 1])"
      ]
     },
     "execution_count": 3,
     "metadata": {},
     "output_type": "execute_result"
    }
   ],
   "source": [
    "ratings = pd.read_csv(\n",
    "  join(data_path, 'ml-1m', 'ratings.dat'),\n",
    "  sep='%',\n",
    "  header=None,\n",
    "  names=['UserID', 'MovieID', 'Rating', 'Timestamp'])\n",
    "\n",
    "ratings['Rating'].unique()"
   ]
  },
  {
   "cell_type": "markdown",
   "metadata": {
    "deletable": true,
    "editable": true
   },
   "source": [
    "## What are the movie genres?"
   ]
  },
  {
   "cell_type": "code",
   "execution_count": 4,
   "metadata": {
    "collapsed": false,
    "deletable": true,
    "editable": true
   },
   "outputs": [
    {
     "name": "stdout",
     "output_type": "stream",
     "text": [
      "There are 18 genres:\n",
      "Documentary\n",
      "Mystery\n",
      "Action\n",
      "Musical\n",
      "Thriller\n",
      "Romance\n",
      "Animation\n",
      "Sci-Fi\n",
      "Children's\n",
      "Western\n",
      "Horror\n",
      "Drama\n",
      "Comedy\n",
      "War\n",
      "Fantasy\n",
      "Crime\n",
      "Adventure\n",
      "Film-Noir\n"
     ]
    }
   ],
   "source": [
    "all_genres_unrolled = movies['Genres'].str.split('|', expand=True)\n",
    "\n",
    "all_genres = set().union(*(all_genres_unrolled[col].unique() for col in all_genres_unrolled.columns))\n",
    "all_genres = {genre for genre in all_genres if genre}\n",
    "print('There are', len(all_genres), 'genres:')\n",
    "for genre in all_genres:\n",
    "  print(genre)"
   ]
  },
  {
   "cell_type": "markdown",
   "metadata": {
    "deletable": true,
    "editable": true
   },
   "source": [
    "## Some basic statistics"
   ]
  },
  {
   "cell_type": "code",
   "execution_count": 5,
   "metadata": {
    "collapsed": false,
    "deletable": true,
    "editable": true
   },
   "outputs": [
    {
     "data": {
      "image/png": "[encoded data removed]",
      "text/plain": [
       "<matplotlib.figure.Figure at 0x7efc43204128>"
      ]
     },
     "metadata": {},
     "output_type": "display_data"
    },
    {
     "name": "stdout",
     "output_type": "stream",
     "text": [
      "count    1.000209e+06\n",
      "mean     3.581564e+00\n",
      "std      1.117102e+00\n",
      "min      1.000000e+00\n",
      "25%      3.000000e+00\n",
      "50%      4.000000e+00\n",
      "75%      4.000000e+00\n",
      "max      5.000000e+00\n",
      "Name: Rating, dtype: float64\n"
     ]
    }
   ],
   "source": [
    "sns.countplot(x='Rating', data=ratings)\n",
    "plt.show()\n",
    "print(ratings['Rating'].describe())"
   ]
  },
  {
   "cell_type": "markdown",
   "metadata": {
    "deletable": true,
    "editable": true
   },
   "source": [
    "## Ratings per user"
   ]
  },
  {
   "cell_type": "code",
   "execution_count": 6,
   "metadata": {
    "collapsed": false,
    "deletable": true,
    "editable": true
   },
   "outputs": [
    {
     "data": {
      "image/png": "[encoded data removed]",
      "text/plain": [
       "<matplotlib.figure.Figure at 0x7efc43f39ef0>"
      ]
     },
     "metadata": {},
     "output_type": "display_data"
    },
    {
     "name": "stdout",
     "output_type": "stream",
     "text": [
      "count    6040.000000\n",
      "mean      165.597517\n",
      "std       192.747029\n",
      "min        20.000000\n",
      "25%        44.000000\n",
      "50%        96.000000\n",
      "75%       208.000000\n",
      "max      2314.000000\n",
      "Name: UserID, dtype: float64\n"
     ]
    }
   ],
   "source": [
    "ratings_per_user = ratings['UserID'].value_counts()\n",
    "sns.distplot(\n",
    "  a=ratings_per_user,\n",
    "  kde=False)\n",
    "plt.show()\n",
    "print(ratings_per_user.describe())"
   ]
  },
  {
   "cell_type": "markdown",
   "metadata": {
    "deletable": true,
    "editable": true
   },
   "source": [
    "## Ratings per movie"
   ]
  },
  {
   "cell_type": "code",
   "execution_count": 7,
   "metadata": {
    "collapsed": false,
    "deletable": true,
    "editable": true
   },
   "outputs": [
    {
     "data": {
      "image/png": "[encoded data removed]",
      "text/plain": [
       "<matplotlib.figure.Figure at 0x7efc410b44e0>"
      ]
     },
     "metadata": {},
     "output_type": "display_data"
    },
    {
     "name": "stdout",
     "output_type": "stream",
     "text": [
      "count    3706.000000\n",
      "mean      269.889099\n",
      "std       384.047838\n",
      "min         1.000000\n",
      "25%        33.000000\n",
      "50%       123.500000\n",
      "75%       350.000000\n",
      "max      3428.000000\n",
      "Name: MovieID, dtype: float64\n"
     ]
    }
   ],
   "source": [
    "ratings_per_movie = ratings['MovieID'].value_counts()\n",
    "sns.distplot(\n",
    "  a=ratings_per_movie,\n",
    "  kde=False)\n",
    "plt.show()\n",
    "print(ratings_per_movie.describe())"
   ]
  },
  {
   "cell_type": "markdown",
   "metadata": {
    "deletable": true,
    "editable": true
   },
   "source": [
    "## Search movies by substring of title"
   ]
  },
  {
   "cell_type": "code",
   "execution_count": 8,
   "metadata": {
    "collapsed": false,
    "deletable": true,
    "editable": true,
    "scrolled": true
   },
   "outputs": [
    {
     "data": {
      "text/plain": [
       "293    Pulp Fiction (1994)\n",
       "Name: Title, dtype: object"
      ]
     },
     "execution_count": 8,
     "metadata": {},
     "output_type": "execute_result"
    }
   ],
   "source": [
    "contains_searched = movies['Title'].str.contains('Pulp')\n",
    "movies[contains_searched]['Title']"
   ]
  }
 ],
 "metadata": {
  "hide_input": false,
  "kernelspec": {
   "display_name": "Python 3",
   "language": "python",
   "name": "python3"
  },
  "language_info": {
   "codemirror_mode": {
    "name": "ipython",
    "version": 3
   },
   "file_extension": ".py",
   "mimetype": "text/x-python",
   "name": "python",
   "nbconvert_exporter": "python",
   "pygments_lexer": "ipython3",
   "version": "3.5.1"
  }
 },
 "nbformat": 4,
 "nbformat_minor": 2
}
