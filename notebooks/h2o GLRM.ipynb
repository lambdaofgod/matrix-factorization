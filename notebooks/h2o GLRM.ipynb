{
 "cells": [
  {
   "cell_type": "code",
   "execution_count": 1,
   "metadata": {
    "collapsed": false,
    "deletable": true,
    "editable": true
   },
   "outputs": [],
   "source": [
    "import h2o\n",
    "import matplotlib.pyplot as plt\n",
    "%matplotlib inline\n",
    "\n",
    "plt.rcParams[\"figure.figsize\"] = [24,18]\n",
    "\n",
    "import os \n",
    "from os.path import join, split\n",
    "\n",
    "import pandas as pd\n",
    "\n",
    "data_path = (join(\n",
    "    split(os.getcwd())[0],'data'))"
   ]
  },
  {
   "cell_type": "code",
   "execution_count": 2,
   "metadata": {
    "collapsed": false,
    "deletable": true,
    "editable": true
   },
   "outputs": [
    {
     "name": "stdout",
     "output_type": "stream",
     "text": [
      "Checking whether there is an H2O instance running at http://192.168.1.100:54321..... not found.\n",
      "Attempting to start a local H2O server...\n",
      "  Java Version: openjdk version \"1.8.0_131\"; OpenJDK Runtime Environment (build 1.8.0_131-8u131-b11-2ubuntu1.16.04.3-b11); OpenJDK 64-Bit Server VM (build 25.131-b11, mixed mode)\n",
      "  Starting server from /opt/anaconda3/lib/python3.5/site-packages/h2o/backend/bin/h2o.jar\n",
      "  Ice root: /tmp/tmpq7h8wqi_\n",
      "  JVM stdout: /tmp/tmpq7h8wqi_/h2o_kuba_started_from_python.out\n",
      "  JVM stderr: /tmp/tmpq7h8wqi_/h2o_kuba_started_from_python.err\n",
      "  Server is running at http://127.0.0.1:54321\n",
      "Connecting to H2O server at http://127.0.0.1:54321... successful.\n"
     ]
    },
    {
     "data": {
      "text/html": [
       "<div style=\"overflow:auto\"><table style=\"width:50%\"><tr><td>H2O cluster uptime:</td>\n",
       "<td>02 secs</td></tr>\n",
       "<tr><td>H2O cluster version:</td>\n",
       "<td>3.10.5.4</td></tr>\n",
       "<tr><td>H2O cluster version age:</td>\n",
       "<td>1 month and 7 days </td></tr>\n",
       "<tr><td>H2O cluster name:</td>\n",
       "<td>H2O_from_python_kuba_4y73p5</td></tr>\n",
       "<tr><td>H2O cluster total nodes:</td>\n",
       "<td>1</td></tr>\n",
       "<tr><td>H2O cluster free memory:</td>\n",
       "<td>3.426 Gb</td></tr>\n",
       "<tr><td>H2O cluster total cores:</td>\n",
       "<td>4</td></tr>\n",
       "<tr><td>H2O cluster allowed cores:</td>\n",
       "<td>4</td></tr>\n",
       "<tr><td>H2O cluster status:</td>\n",
       "<td>accepting new members, healthy</td></tr>\n",
       "<tr><td>H2O connection url:</td>\n",
       "<td>http://127.0.0.1:54321</td></tr>\n",
       "<tr><td>H2O connection proxy:</td>\n",
       "<td>None</td></tr>\n",
       "<tr><td>H2O internal security:</td>\n",
       "<td>False</td></tr>\n",
       "<tr><td>Python version:</td>\n",
       "<td>3.5.1 final</td></tr></table></div>"
      ],
      "text/plain": [
       "--------------------------  ------------------------------\n",
       "H2O cluster uptime:         02 secs\n",
       "H2O cluster version:        3.10.5.4\n",
       "H2O cluster version age:    1 month and 7 days\n",
       "H2O cluster name:           H2O_from_python_kuba_4y73p5\n",
       "H2O cluster total nodes:    1\n",
       "H2O cluster free memory:    3.426 Gb\n",
       "H2O cluster total cores:    4\n",
       "H2O cluster allowed cores:  4\n",
       "H2O cluster status:         accepting new members, healthy\n",
       "H2O connection url:         http://127.0.0.1:54321\n",
       "H2O connection proxy:\n",
       "H2O internal security:      False\n",
       "Python version:             3.5.1 final\n",
       "--------------------------  ------------------------------"
      ]
     },
     "metadata": {},
     "output_type": "display_data"
    }
   ],
   "source": [
    "h2o.init(url='http://192.168.1.100:54321')"
   ]
  },
  {
   "cell_type": "markdown",
   "metadata": {
    "deletable": true,
    "editable": true
   },
   "source": [
    "## Ratings table"
   ]
  },
  {
   "cell_type": "code",
   "execution_count": 3,
   "metadata": {
    "collapsed": false,
    "deletable": true,
    "editable": true
   },
   "outputs": [
    {
     "data": {
      "text/html": [
       "<div>\n",
       "<style>\n",
       "    .dataframe thead tr:only-child th {\n",
       "        text-align: right;\n",
       "    }\n",
       "\n",
       "    .dataframe thead th {\n",
       "        text-align: left;\n",
       "    }\n",
       "\n",
       "    .dataframe tbody tr th {\n",
       "        vertical-align: top;\n",
       "    }\n",
       "</style>\n",
       "<table border=\"1\" class=\"dataframe\">\n",
       "  <thead>\n",
       "    <tr style=\"text-align: right;\">\n",
       "      <th></th>\n",
       "      <th>UserID</th>\n",
       "      <th>MovieID</th>\n",
       "      <th>Rating</th>\n",
       "      <th>Timestamp</th>\n",
       "    </tr>\n",
       "  </thead>\n",
       "  <tbody>\n",
       "    <tr>\n",
       "      <th>0</th>\n",
       "      <td>1</td>\n",
       "      <td>1193</td>\n",
       "      <td>5</td>\n",
       "      <td>978300760</td>\n",
       "    </tr>\n",
       "    <tr>\n",
       "      <th>1</th>\n",
       "      <td>1</td>\n",
       "      <td>661</td>\n",
       "      <td>3</td>\n",
       "      <td>978302109</td>\n",
       "    </tr>\n",
       "    <tr>\n",
       "      <th>2</th>\n",
       "      <td>1</td>\n",
       "      <td>914</td>\n",
       "      <td>3</td>\n",
       "      <td>978301968</td>\n",
       "    </tr>\n",
       "    <tr>\n",
       "      <th>3</th>\n",
       "      <td>1</td>\n",
       "      <td>3408</td>\n",
       "      <td>4</td>\n",
       "      <td>978300275</td>\n",
       "    </tr>\n",
       "    <tr>\n",
       "      <th>4</th>\n",
       "      <td>1</td>\n",
       "      <td>2355</td>\n",
       "      <td>5</td>\n",
       "      <td>978824291</td>\n",
       "    </tr>\n",
       "  </tbody>\n",
       "</table>\n",
       "</div>"
      ],
      "text/plain": [
       "   UserID  MovieID  Rating  Timestamp\n",
       "0       1     1193       5  978300760\n",
       "1       1      661       3  978302109\n",
       "2       1      914       3  978301968\n",
       "3       1     3408       4  978300275\n",
       "4       1     2355       5  978824291"
      ]
     },
     "execution_count": 3,
     "metadata": {},
     "output_type": "execute_result"
    }
   ],
   "source": [
    "filename = join(data_path, join('ml-1m', 'ratings.dat'))\n",
    "pd_ratings_frame = pd.read_csv(filename, sep='%', names=['UserID', 'MovieID', 'Rating', 'Timestamp'])\n",
    "pd_ratings_frame.head()"
   ]
  },
  {
   "cell_type": "markdown",
   "metadata": {
    "deletable": true,
    "editable": true
   },
   "source": [
    "We'll add titles to ratings since we're going to use them as feature names later."
   ]
  },
  {
   "cell_type": "code",
   "execution_count": 4,
   "metadata": {
    "collapsed": false,
    "deletable": true,
    "editable": true
   },
   "outputs": [
    {
     "data": {
      "text/html": [
       "<div>\n",
       "<style>\n",
       "    .dataframe thead tr:only-child th {\n",
       "        text-align: right;\n",
       "    }\n",
       "\n",
       "    .dataframe thead th {\n",
       "        text-align: left;\n",
       "    }\n",
       "\n",
       "    .dataframe tbody tr th {\n",
       "        vertical-align: top;\n",
       "    }\n",
       "</style>\n",
       "<table border=\"1\" class=\"dataframe\">\n",
       "  <thead>\n",
       "    <tr style=\"text-align: right;\">\n",
       "      <th></th>\n",
       "      <th>UserID</th>\n",
       "      <th>MovieID</th>\n",
       "      <th>Rating</th>\n",
       "      <th>Timestamp</th>\n",
       "      <th>Title</th>\n",
       "    </tr>\n",
       "  </thead>\n",
       "  <tbody>\n",
       "    <tr>\n",
       "      <th>0</th>\n",
       "      <td>1</td>\n",
       "      <td>1193</td>\n",
       "      <td>5</td>\n",
       "      <td>978300760</td>\n",
       "      <td>One Flew Over the Cuckoo's Nest (1975)</td>\n",
       "    </tr>\n",
       "    <tr>\n",
       "      <th>1</th>\n",
       "      <td>2</td>\n",
       "      <td>1193</td>\n",
       "      <td>5</td>\n",
       "      <td>978298413</td>\n",
       "      <td>One Flew Over the Cuckoo's Nest (1975)</td>\n",
       "    </tr>\n",
       "    <tr>\n",
       "      <th>2</th>\n",
       "      <td>12</td>\n",
       "      <td>1193</td>\n",
       "      <td>4</td>\n",
       "      <td>978220179</td>\n",
       "      <td>One Flew Over the Cuckoo's Nest (1975)</td>\n",
       "    </tr>\n",
       "    <tr>\n",
       "      <th>3</th>\n",
       "      <td>15</td>\n",
       "      <td>1193</td>\n",
       "      <td>4</td>\n",
       "      <td>978199279</td>\n",
       "      <td>One Flew Over the Cuckoo's Nest (1975)</td>\n",
       "    </tr>\n",
       "    <tr>\n",
       "      <th>4</th>\n",
       "      <td>17</td>\n",
       "      <td>1193</td>\n",
       "      <td>5</td>\n",
       "      <td>978158471</td>\n",
       "      <td>One Flew Over the Cuckoo's Nest (1975)</td>\n",
       "    </tr>\n",
       "  </tbody>\n",
       "</table>\n",
       "</div>"
      ],
      "text/plain": [
       "   UserID  MovieID  Rating  Timestamp                                   Title\n",
       "0       1     1193       5  978300760  One Flew Over the Cuckoo's Nest (1975)\n",
       "1       2     1193       5  978298413  One Flew Over the Cuckoo's Nest (1975)\n",
       "2      12     1193       4  978220179  One Flew Over the Cuckoo's Nest (1975)\n",
       "3      15     1193       4  978199279  One Flew Over the Cuckoo's Nest (1975)\n",
       "4      17     1193       5  978158471  One Flew Over the Cuckoo's Nest (1975)"
      ]
     },
     "execution_count": 4,
     "metadata": {},
     "output_type": "execute_result"
    }
   ],
   "source": [
    "pd_movies_frame = pd.read_csv(join(data_path, 'ml-1m', 'movies.dat'), sep='%', names=['MovieID', 'Title', 'Genres'], encoding='latin-1')\n",
    "\n",
    "pd_all_frame = pd_ratings_frame.merge(pd_movies_frame[['MovieID', 'Title']], on='MovieID')\n",
    "pd_all_frame.head()"
   ]
  },
  {
   "cell_type": "markdown",
   "metadata": {
    "deletable": true,
    "editable": true
   },
   "source": [
    "## The actual matrix that we will try to approximate"
   ]
  },
  {
   "cell_type": "code",
   "execution_count": 5,
   "metadata": {
    "collapsed": false,
    "deletable": true,
    "editable": true
   },
   "outputs": [
    {
     "data": {
      "text/html": [
       "<div>\n",
       "<style>\n",
       "    .dataframe thead tr:only-child th {\n",
       "        text-align: right;\n",
       "    }\n",
       "\n",
       "    .dataframe thead th {\n",
       "        text-align: left;\n",
       "    }\n",
       "\n",
       "    .dataframe tbody tr th {\n",
       "        vertical-align: top;\n",
       "    }\n",
       "</style>\n",
       "<table border=\"1\" class=\"dataframe\">\n",
       "  <thead>\n",
       "    <tr style=\"text-align: right;\">\n",
       "      <th>Title</th>\n",
       "      <th>$1,000,000 Duck (1971)</th>\n",
       "      <th>'Night Mother (1986)</th>\n",
       "      <th>'Til There Was You (1997)</th>\n",
       "      <th>'burbs, The (1989)</th>\n",
       "      <th>...And Justice for All (1979)</th>\n",
       "      <th>1-900 (1994)</th>\n",
       "      <th>10 Things I Hate About You (1999)</th>\n",
       "      <th>101 Dalmatians (1961)</th>\n",
       "      <th>101 Dalmatians (1996)</th>\n",
       "      <th>12 Angry Men (1957)</th>\n",
       "      <th>...</th>\n",
       "      <th>Young Poisoner's Handbook, The (1995)</th>\n",
       "      <th>Young Sherlock Holmes (1985)</th>\n",
       "      <th>Young and Innocent (1937)</th>\n",
       "      <th>Your Friends and Neighbors (1998)</th>\n",
       "      <th>Zachariah (1971)</th>\n",
       "      <th>Zed &amp; Two Noughts, A (1985)</th>\n",
       "      <th>Zero Effect (1998)</th>\n",
       "      <th>Zero Kelvin (Kjærlighetens kjøtere) (1995)</th>\n",
       "      <th>Zeus and Roxanne (1997)</th>\n",
       "      <th>eXistenZ (1999)</th>\n",
       "    </tr>\n",
       "  </thead>\n",
       "  <tbody>\n",
       "    <tr>\n",
       "      <th>count</th>\n",
       "      <td>37.000000</td>\n",
       "      <td>70.000000</td>\n",
       "      <td>52.000000</td>\n",
       "      <td>303.000000</td>\n",
       "      <td>199.000000</td>\n",
       "      <td>2.000000</td>\n",
       "      <td>700.000000</td>\n",
       "      <td>565.000000</td>\n",
       "      <td>364.000000</td>\n",
       "      <td>616.000000</td>\n",
       "      <td>...</td>\n",
       "      <td>79.000000</td>\n",
       "      <td>379.000000</td>\n",
       "      <td>10.000000</td>\n",
       "      <td>109.000000</td>\n",
       "      <td>2.00000</td>\n",
       "      <td>29.000000</td>\n",
       "      <td>301.000000</td>\n",
       "      <td>2.000000</td>\n",
       "      <td>23.000000</td>\n",
       "      <td>410.000000</td>\n",
       "    </tr>\n",
       "    <tr>\n",
       "      <th>mean</th>\n",
       "      <td>3.027027</td>\n",
       "      <td>3.371429</td>\n",
       "      <td>2.692308</td>\n",
       "      <td>2.910891</td>\n",
       "      <td>3.713568</td>\n",
       "      <td>2.500000</td>\n",
       "      <td>3.422857</td>\n",
       "      <td>3.596460</td>\n",
       "      <td>3.046703</td>\n",
       "      <td>4.295455</td>\n",
       "      <td>...</td>\n",
       "      <td>3.632911</td>\n",
       "      <td>3.390501</td>\n",
       "      <td>3.300000</td>\n",
       "      <td>3.376147</td>\n",
       "      <td>3.50000</td>\n",
       "      <td>3.413793</td>\n",
       "      <td>3.750831</td>\n",
       "      <td>3.500000</td>\n",
       "      <td>2.521739</td>\n",
       "      <td>3.256098</td>\n",
       "    </tr>\n",
       "    <tr>\n",
       "      <th>std</th>\n",
       "      <td>1.092563</td>\n",
       "      <td>1.118636</td>\n",
       "      <td>1.020159</td>\n",
       "      <td>1.107760</td>\n",
       "      <td>0.878110</td>\n",
       "      <td>0.707107</td>\n",
       "      <td>0.989815</td>\n",
       "      <td>0.982103</td>\n",
       "      <td>1.098717</td>\n",
       "      <td>0.812731</td>\n",
       "      <td>...</td>\n",
       "      <td>0.787355</td>\n",
       "      <td>0.891176</td>\n",
       "      <td>1.251666</td>\n",
       "      <td>1.128659</td>\n",
       "      <td>2.12132</td>\n",
       "      <td>1.052794</td>\n",
       "      <td>1.042932</td>\n",
       "      <td>0.707107</td>\n",
       "      <td>1.122884</td>\n",
       "      <td>1.178568</td>\n",
       "    </tr>\n",
       "    <tr>\n",
       "      <th>min</th>\n",
       "      <td>1.000000</td>\n",
       "      <td>1.000000</td>\n",
       "      <td>1.000000</td>\n",
       "      <td>1.000000</td>\n",
       "      <td>1.000000</td>\n",
       "      <td>2.000000</td>\n",
       "      <td>1.000000</td>\n",
       "      <td>1.000000</td>\n",
       "      <td>1.000000</td>\n",
       "      <td>1.000000</td>\n",
       "      <td>...</td>\n",
       "      <td>2.000000</td>\n",
       "      <td>1.000000</td>\n",
       "      <td>1.000000</td>\n",
       "      <td>1.000000</td>\n",
       "      <td>2.00000</td>\n",
       "      <td>1.000000</td>\n",
       "      <td>1.000000</td>\n",
       "      <td>3.000000</td>\n",
       "      <td>1.000000</td>\n",
       "      <td>1.000000</td>\n",
       "    </tr>\n",
       "    <tr>\n",
       "      <th>25%</th>\n",
       "      <td>2.000000</td>\n",
       "      <td>3.000000</td>\n",
       "      <td>2.000000</td>\n",
       "      <td>2.000000</td>\n",
       "      <td>3.000000</td>\n",
       "      <td>2.250000</td>\n",
       "      <td>3.000000</td>\n",
       "      <td>3.000000</td>\n",
       "      <td>2.000000</td>\n",
       "      <td>4.000000</td>\n",
       "      <td>...</td>\n",
       "      <td>3.000000</td>\n",
       "      <td>3.000000</td>\n",
       "      <td>3.000000</td>\n",
       "      <td>3.000000</td>\n",
       "      <td>2.75000</td>\n",
       "      <td>3.000000</td>\n",
       "      <td>3.000000</td>\n",
       "      <td>3.250000</td>\n",
       "      <td>2.000000</td>\n",
       "      <td>2.000000</td>\n",
       "    </tr>\n",
       "    <tr>\n",
       "      <th>50%</th>\n",
       "      <td>3.000000</td>\n",
       "      <td>3.000000</td>\n",
       "      <td>3.000000</td>\n",
       "      <td>3.000000</td>\n",
       "      <td>4.000000</td>\n",
       "      <td>2.500000</td>\n",
       "      <td>4.000000</td>\n",
       "      <td>4.000000</td>\n",
       "      <td>3.000000</td>\n",
       "      <td>4.000000</td>\n",
       "      <td>...</td>\n",
       "      <td>4.000000</td>\n",
       "      <td>3.000000</td>\n",
       "      <td>3.000000</td>\n",
       "      <td>3.000000</td>\n",
       "      <td>3.50000</td>\n",
       "      <td>4.000000</td>\n",
       "      <td>4.000000</td>\n",
       "      <td>3.500000</td>\n",
       "      <td>3.000000</td>\n",
       "      <td>3.000000</td>\n",
       "    </tr>\n",
       "    <tr>\n",
       "      <th>75%</th>\n",
       "      <td>4.000000</td>\n",
       "      <td>4.000000</td>\n",
       "      <td>3.000000</td>\n",
       "      <td>4.000000</td>\n",
       "      <td>4.000000</td>\n",
       "      <td>2.750000</td>\n",
       "      <td>4.000000</td>\n",
       "      <td>4.000000</td>\n",
       "      <td>4.000000</td>\n",
       "      <td>5.000000</td>\n",
       "      <td>...</td>\n",
       "      <td>4.000000</td>\n",
       "      <td>4.000000</td>\n",
       "      <td>4.000000</td>\n",
       "      <td>4.000000</td>\n",
       "      <td>4.25000</td>\n",
       "      <td>4.000000</td>\n",
       "      <td>5.000000</td>\n",
       "      <td>3.750000</td>\n",
       "      <td>3.000000</td>\n",
       "      <td>4.000000</td>\n",
       "    </tr>\n",
       "    <tr>\n",
       "      <th>max</th>\n",
       "      <td>5.000000</td>\n",
       "      <td>5.000000</td>\n",
       "      <td>5.000000</td>\n",
       "      <td>5.000000</td>\n",
       "      <td>5.000000</td>\n",
       "      <td>3.000000</td>\n",
       "      <td>5.000000</td>\n",
       "      <td>5.000000</td>\n",
       "      <td>5.000000</td>\n",
       "      <td>5.000000</td>\n",
       "      <td>...</td>\n",
       "      <td>5.000000</td>\n",
       "      <td>5.000000</td>\n",
       "      <td>5.000000</td>\n",
       "      <td>5.000000</td>\n",
       "      <td>5.00000</td>\n",
       "      <td>5.000000</td>\n",
       "      <td>5.000000</td>\n",
       "      <td>4.000000</td>\n",
       "      <td>5.000000</td>\n",
       "      <td>5.000000</td>\n",
       "    </tr>\n",
       "  </tbody>\n",
       "</table>\n",
       "<p>8 rows × 3706 columns</p>\n",
       "</div>"
      ],
      "text/plain": [
       "Title  $1,000,000 Duck (1971)  'Night Mother (1986)  \\\n",
       "count               37.000000             70.000000   \n",
       "mean                 3.027027              3.371429   \n",
       "std                  1.092563              1.118636   \n",
       "min                  1.000000              1.000000   \n",
       "25%                  2.000000              3.000000   \n",
       "50%                  3.000000              3.000000   \n",
       "75%                  4.000000              4.000000   \n",
       "max                  5.000000              5.000000   \n",
       "\n",
       "Title  'Til There Was You (1997)  'burbs, The (1989)  \\\n",
       "count                  52.000000          303.000000   \n",
       "mean                    2.692308            2.910891   \n",
       "std                     1.020159            1.107760   \n",
       "min                     1.000000            1.000000   \n",
       "25%                     2.000000            2.000000   \n",
       "50%                     3.000000            3.000000   \n",
       "75%                     3.000000            4.000000   \n",
       "max                     5.000000            5.000000   \n",
       "\n",
       "Title  ...And Justice for All (1979)  1-900 (1994)  \\\n",
       "count                     199.000000      2.000000   \n",
       "mean                        3.713568      2.500000   \n",
       "std                         0.878110      0.707107   \n",
       "min                         1.000000      2.000000   \n",
       "25%                         3.000000      2.250000   \n",
       "50%                         4.000000      2.500000   \n",
       "75%                         4.000000      2.750000   \n",
       "max                         5.000000      3.000000   \n",
       "\n",
       "Title  10 Things I Hate About You (1999)  101 Dalmatians (1961)  \\\n",
       "count                         700.000000             565.000000   \n",
       "mean                            3.422857               3.596460   \n",
       "std                             0.989815               0.982103   \n",
       "min                             1.000000               1.000000   \n",
       "25%                             3.000000               3.000000   \n",
       "50%                             4.000000               4.000000   \n",
       "75%                             4.000000               4.000000   \n",
       "max                             5.000000               5.000000   \n",
       "\n",
       "Title  101 Dalmatians (1996)  12 Angry Men (1957)       ...         \\\n",
       "count             364.000000           616.000000       ...          \n",
       "mean                3.046703             4.295455       ...          \n",
       "std                 1.098717             0.812731       ...          \n",
       "min                 1.000000             1.000000       ...          \n",
       "25%                 2.000000             4.000000       ...          \n",
       "50%                 3.000000             4.000000       ...          \n",
       "75%                 4.000000             5.000000       ...          \n",
       "max                 5.000000             5.000000       ...          \n",
       "\n",
       "Title  Young Poisoner's Handbook, The (1995)  Young Sherlock Holmes (1985)  \\\n",
       "count                              79.000000                    379.000000   \n",
       "mean                                3.632911                      3.390501   \n",
       "std                                 0.787355                      0.891176   \n",
       "min                                 2.000000                      1.000000   \n",
       "25%                                 3.000000                      3.000000   \n",
       "50%                                 4.000000                      3.000000   \n",
       "75%                                 4.000000                      4.000000   \n",
       "max                                 5.000000                      5.000000   \n",
       "\n",
       "Title  Young and Innocent (1937)  Your Friends and Neighbors (1998)  \\\n",
       "count                  10.000000                         109.000000   \n",
       "mean                    3.300000                           3.376147   \n",
       "std                     1.251666                           1.128659   \n",
       "min                     1.000000                           1.000000   \n",
       "25%                     3.000000                           3.000000   \n",
       "50%                     3.000000                           3.000000   \n",
       "75%                     4.000000                           4.000000   \n",
       "max                     5.000000                           5.000000   \n",
       "\n",
       "Title  Zachariah (1971)  Zed & Two Noughts, A (1985)  Zero Effect (1998)  \\\n",
       "count           2.00000                    29.000000          301.000000   \n",
       "mean            3.50000                     3.413793            3.750831   \n",
       "std             2.12132                     1.052794            1.042932   \n",
       "min             2.00000                     1.000000            1.000000   \n",
       "25%             2.75000                     3.000000            3.000000   \n",
       "50%             3.50000                     4.000000            4.000000   \n",
       "75%             4.25000                     4.000000            5.000000   \n",
       "max             5.00000                     5.000000            5.000000   \n",
       "\n",
       "Title  Zero Kelvin (Kjærlighetens kjøtere) (1995)  Zeus and Roxanne (1997)  \\\n",
       "count                                    2.000000                23.000000   \n",
       "mean                                     3.500000                 2.521739   \n",
       "std                                      0.707107                 1.122884   \n",
       "min                                      3.000000                 1.000000   \n",
       "25%                                      3.250000                 2.000000   \n",
       "50%                                      3.500000                 3.000000   \n",
       "75%                                      3.750000                 3.000000   \n",
       "max                                      4.000000                 5.000000   \n",
       "\n",
       "Title  eXistenZ (1999)  \n",
       "count       410.000000  \n",
       "mean          3.256098  \n",
       "std           1.178568  \n",
       "min           1.000000  \n",
       "25%           2.000000  \n",
       "50%           3.000000  \n",
       "75%           4.000000  \n",
       "max           5.000000  \n",
       "\n",
       "[8 rows x 3706 columns]"
      ]
     },
     "execution_count": 5,
     "metadata": {},
     "output_type": "execute_result"
    }
   ],
   "source": [
    "pd_ratings_frame = pd_all_frame.pivot(index='UserID', columns='Title', values='Rating')\n",
    "pd_ratings_frame.describe()"
   ]
  },
  {
   "cell_type": "code",
   "execution_count": 6,
   "metadata": {
    "collapsed": false,
    "deletable": true,
    "editable": true
   },
   "outputs": [
    {
     "name": "stdout",
     "output_type": "stream",
     "text": [
      "Parse progress: |█████████████████████████████████████████████████████████| 100%\n"
     ]
    }
   ],
   "source": [
    "ratings_frame = (h2o.H2OFrame(pd_ratings_frame,\n",
    "                  column_types=list(map(lambda x: 'float', range(pd_ratings_frame.shape[1]))),\n",
    "                  na_strings=['nan']))"
   ]
  },
  {
   "cell_type": "markdown",
   "metadata": {
    "deletable": true,
    "editable": true
   },
   "source": [
    "## Your ratings\n",
    "\n",
    "See the **Movies Exploration** notebook for how to search movies by title."
   ]
  },
  {
   "cell_type": "code",
   "execution_count": 7,
   "metadata": {
    "collapsed": false,
    "deletable": true,
    "editable": true
   },
   "outputs": [],
   "source": [
    "my_ratings = list(zip(*[\n",
    "  ['Matrix, The (1999)', 5],\n",
    "  ['Godfather, The (1972)', 4],\n",
    "  ['Godfather: Part III, The (1990)', 2],\n",
    "  ['Fear and Loathing in Las Vegas (1998)', 5],\n",
    "  ['Trainspotting (1996)', 4],\n",
    "  ['Clockwork Orange, A (1971)', 5],\n",
    "  ['Full Metal Jacket (1987)', 5],\n",
    "  ['Total Recall (1990)', 4],\n",
    "  ['Alien (1979)', 5],\n",
    "  ['GoodFellas (1990)', 4],\n",
    "  ['American Psycho (2000)', 5],\n",
    "  ['Home Alone 2: Lost in New York (1992)', 2],\n",
    "  ['2001: A Space Odyssey (1968)', 5],\n",
    "  ['Star Wars: Episode I - The Phantom Menace (1999)', 1],\n",
    "  ['Conan the Barbarian (1982)', 2],\n",
    "  ['Independence Day (ID4) (1996)', 1],\n",
    "  ['Terminator, The (1984)', 4],\n",
    "  ['Taxi Driver (1976)', 4],\n",
    "  ['Titanic (1997)', 2],\n",
    "  ['Pulp Fiction (1994)', 5]]))\n"
   ]
  },
  {
   "cell_type": "markdown",
   "metadata": {
    "deletable": true,
    "editable": true
   },
   "source": [
    "## Your recommendations H2O Frame"
   ]
  },
  {
   "cell_type": "code",
   "execution_count": 8,
   "metadata": {
    "collapsed": false,
    "deletable": true,
    "editable": true
   },
   "outputs": [
    {
     "data": {
      "text/html": [
       "<div>\n",
       "<style>\n",
       "    .dataframe thead tr:only-child th {\n",
       "        text-align: right;\n",
       "    }\n",
       "\n",
       "    .dataframe thead th {\n",
       "        text-align: left;\n",
       "    }\n",
       "\n",
       "    .dataframe tbody tr th {\n",
       "        vertical-align: top;\n",
       "    }\n",
       "</style>\n",
       "<table border=\"1\" class=\"dataframe\">\n",
       "  <thead>\n",
       "    <tr style=\"text-align: right;\">\n",
       "      <th>UserId</th>\n",
       "      <th>0</th>\n",
       "    </tr>\n",
       "    <tr>\n",
       "      <th>Title</th>\n",
       "      <th></th>\n",
       "    </tr>\n",
       "  </thead>\n",
       "  <tbody>\n",
       "    <tr>\n",
       "      <th>2001: A Space Odyssey (1968)</th>\n",
       "      <td>5</td>\n",
       "    </tr>\n",
       "    <tr>\n",
       "      <th>Alien (1979)</th>\n",
       "      <td>5</td>\n",
       "    </tr>\n",
       "    <tr>\n",
       "      <th>American Psycho (2000)</th>\n",
       "      <td>5</td>\n",
       "    </tr>\n",
       "    <tr>\n",
       "      <th>Clockwork Orange, A (1971)</th>\n",
       "      <td>5</td>\n",
       "    </tr>\n",
       "    <tr>\n",
       "      <th>Conan the Barbarian (1982)</th>\n",
       "      <td>2</td>\n",
       "    </tr>\n",
       "    <tr>\n",
       "      <th>Fear and Loathing in Las Vegas (1998)</th>\n",
       "      <td>5</td>\n",
       "    </tr>\n",
       "    <tr>\n",
       "      <th>Full Metal Jacket (1987)</th>\n",
       "      <td>5</td>\n",
       "    </tr>\n",
       "    <tr>\n",
       "      <th>Godfather, The (1972)</th>\n",
       "      <td>4</td>\n",
       "    </tr>\n",
       "    <tr>\n",
       "      <th>Godfather: Part III, The (1990)</th>\n",
       "      <td>2</td>\n",
       "    </tr>\n",
       "    <tr>\n",
       "      <th>GoodFellas (1990)</th>\n",
       "      <td>4</td>\n",
       "    </tr>\n",
       "    <tr>\n",
       "      <th>Home Alone 2: Lost in New York (1992)</th>\n",
       "      <td>2</td>\n",
       "    </tr>\n",
       "    <tr>\n",
       "      <th>Independence Day (ID4) (1996)</th>\n",
       "      <td>1</td>\n",
       "    </tr>\n",
       "    <tr>\n",
       "      <th>Matrix, The (1999)</th>\n",
       "      <td>5</td>\n",
       "    </tr>\n",
       "    <tr>\n",
       "      <th>Pulp Fiction (1994)</th>\n",
       "      <td>5</td>\n",
       "    </tr>\n",
       "    <tr>\n",
       "      <th>Star Wars: Episode I - The Phantom Menace (1999)</th>\n",
       "      <td>1</td>\n",
       "    </tr>\n",
       "    <tr>\n",
       "      <th>Taxi Driver (1976)</th>\n",
       "      <td>4</td>\n",
       "    </tr>\n",
       "    <tr>\n",
       "      <th>Terminator, The (1984)</th>\n",
       "      <td>4</td>\n",
       "    </tr>\n",
       "    <tr>\n",
       "      <th>Titanic (1997)</th>\n",
       "      <td>2</td>\n",
       "    </tr>\n",
       "    <tr>\n",
       "      <th>Total Recall (1990)</th>\n",
       "      <td>4</td>\n",
       "    </tr>\n",
       "    <tr>\n",
       "      <th>Trainspotting (1996)</th>\n",
       "      <td>4</td>\n",
       "    </tr>\n",
       "  </tbody>\n",
       "</table>\n",
       "</div>"
      ],
      "text/plain": [
       "UserId                                            0\n",
       "Title                                              \n",
       "2001: A Space Odyssey (1968)                      5\n",
       "Alien (1979)                                      5\n",
       "American Psycho (2000)                            5\n",
       "Clockwork Orange, A (1971)                        5\n",
       "Conan the Barbarian (1982)                        2\n",
       "Fear and Loathing in Las Vegas (1998)             5\n",
       "Full Metal Jacket (1987)                          5\n",
       "Godfather, The (1972)                             4\n",
       "Godfather: Part III, The (1990)                   2\n",
       "GoodFellas (1990)                                 4\n",
       "Home Alone 2: Lost in New York (1992)             2\n",
       "Independence Day (ID4) (1996)                     1\n",
       "Matrix, The (1999)                                5\n",
       "Pulp Fiction (1994)                               5\n",
       "Star Wars: Episode I - The Phantom Menace (1999)  1\n",
       "Taxi Driver (1976)                                4\n",
       "Terminator, The (1984)                            4\n",
       "Titanic (1997)                                    2\n",
       "Total Recall (1990)                               4\n",
       "Trainspotting (1996)                              4"
      ]
     },
     "execution_count": 8,
     "metadata": {},
     "output_type": "execute_result"
    }
   ],
   "source": [
    "my_ratings_df = (\n",
    "  pd.DataFrame(\n",
    "    data={\n",
    "      'UserId': [0 for __ in range(len(my_ratings[0]))],\n",
    "      'Title': my_ratings[0],\n",
    "      'Rating': my_ratings[1]})\n",
    "    .pivot(index='UserId', columns='Title', values='Rating')\n",
    "    .reindex(columns=pd_ratings_frame.columns))\n",
    "my_ratings_df.dropna(axis=1).T"
   ]
  },
  {
   "cell_type": "code",
   "execution_count": 9,
   "metadata": {
    "collapsed": false,
    "deletable": true,
    "editable": true
   },
   "outputs": [
    {
     "name": "stdout",
     "output_type": "stream",
     "text": [
      "Parse progress: |█████████████████████████████████████████████████████████| 100%\n"
     ]
    }
   ],
   "source": [
    "pd_full_frame = pd.concat([my_ratings_df, pd_ratings_frame], axis=0)\n",
    "\n",
    "full_h2o_frame = h2o.H2OFrame(pd_full_frame,\n",
    "                            header=-1,\n",
    "                            column_types=['numeric' for __ in  range(pd_full_frame.shape[1])],\n",
    "                            na_strings=['nan'])"
   ]
  },
  {
   "cell_type": "markdown",
   "metadata": {
    "deletable": true,
    "editable": true
   },
   "source": [
    "## GLRM model\n",
    "\n",
    "\n",
    "<img src=\"http://docs.h2o.ai/h2o/latest-stable/h2o-docs/_images/glrm_matrix_decomposition.png\" height=\"138\" width=\"419\" >\n",
    "\n",
    "### Description\n",
    "GLRM models are used to approximate given matrix A using product of two low rank matrices.\n",
    "\n",
    "GLRMs can be used to impute missing values of $ A $ (for which only some elements, for $(i, j) \\in \\Omega$ are given).\n",
    "\n",
    "Concretely, $ A \\approx UV $ means\n",
    "that $ U, V $ are computed to minimize the objective\n",
    "\n",
    "$E(U,V)= \\sum_{i, j \\in \\Omega}{d(A_{i j}, U_i V^T_j)} + \\frac{\\lambda_1}{2} \\sum_{i \\in \\pi_1(\\Omega)}r_1(U_i) + \\frac{\\lambda_2}{2}  \n",
    "\\sum_{j \\in \\pi_2(\\Omega)}r_2(V_j)$\n",
    "\n",
    "That expression can be interpreted as measuring distance from $A$ to $ UV $ penalized by some regularizations $r_1, r_2$\n",
    "\n",
    "See [Probabilistic Matrix Factorization](https://www.cs.toronto.edu/~amnih/papers/pmf.pdf) for how $E$ relates to maximum a posteriori."
   ]
  },
  {
   "cell_type": "markdown",
   "metadata": {
    "deletable": true,
    "editable": true
   },
   "source": [
    "### Application\n",
    "\n",
    "Here we use exactly\n",
    "\n",
    "$E(U, V) = \\sum_{i, j \\in \\Omega}{(A_{i j} - U_i V^T_j)^2} + \\frac{\\lambda_1}{2} \\sum_{i \\in \\pi_1(\\Omega)}\\left\\lVert U_i \\right\\rVert_1 + \\frac{\\lambda_2}{2} \\sum_{j \\in \\pi_2(\\Omega)}\\left\\lVert V_j\\right\\rVert_1$\n",
    "\n",
    "$\\left\\lVert . \\right\\rVert_1$ (L1 norm) is used because it provides sparser solutions than L2 norm, and also for this problem it seems to converge faster. \n",
    "\n",
    "We'll pick rank $k=18$ because it's the number of genres in the dataset."
   ]
  },
  {
   "cell_type": "code",
   "execution_count": 10,
   "metadata": {
    "collapsed": true,
    "deletable": true,
    "editable": true
   },
   "outputs": [],
   "source": [
    "from h2o.estimators import H2OGeneralizedLowRankEstimator"
   ]
  },
  {
   "cell_type": "code",
   "execution_count": 11,
   "metadata": {
    "collapsed": false,
    "deletable": true,
    "editable": true
   },
   "outputs": [
    {
     "name": "stdout",
     "output_type": "stream",
     "text": [
      "glrm Model Build progress: |██████████████████████████████████████████████| 100%\n",
      "CPU times: user 2.9 s, sys: 112 ms, total: 3.01 s\n",
      "Wall time: 5min 51s\n"
     ]
    }
   ],
   "source": [
    "glrm = H2OGeneralizedLowRankEstimator(\n",
    "  k=18,\n",
    "  regularization_x='L1',\n",
    "  regularization_y='L1',\n",
    "  gamma_x=1,\n",
    "  gamma_y=25,\n",
    "  transform='Demean',\n",
    "  init='SVD',\n",
    "  max_iterations=50)\n",
    "\n",
    "%time glrm.train(training_frame=full_h2o_frame)"
   ]
  },
  {
   "cell_type": "markdown",
   "metadata": {
    "deletable": true,
    "editable": true
   },
   "source": [
    "### Unfortunately loading GLRM models seems to crash H2O..."
   ]
  },
  {
   "cell_type": "markdown",
   "metadata": {
    "deletable": true,
    "editable": true
   },
   "source": [
    "\n",
    "model_path = h2o.save_model(model=glrm, path=join(data_path, 'glrm_model'))\n",
    "\n",
    "model_path\n",
    "\n",
    "h2o.load_model(model_path)"
   ]
  },
  {
   "cell_type": "markdown",
   "metadata": {
    "deletable": true,
    "editable": true
   },
   "source": [
    "## Inspecting archetypes (Y matrix)"
   ]
  },
  {
   "cell_type": "code",
   "execution_count": 13,
   "metadata": {
    "collapsed": false,
    "deletable": true,
    "editable": true,
    "scrolled": true
   },
   "outputs": [
    {
     "name": "stdout",
     "output_type": "stream",
     "text": [
      "Nonzero coefficients per archetype\n"
     ]
    },
    {
     "data": {
      "text/plain": [
       "0     2635\n",
       "1     1760\n",
       "2     1028\n",
       "3      955\n",
       "4      796\n",
       "5      633\n",
       "6      599\n",
       "7      513\n",
       "8      439\n",
       "9      442\n",
       "10     314\n",
       "11     201\n",
       "12     287\n",
       "13     272\n",
       "14     260\n",
       "15     184\n",
       "16     170\n",
       "17     203\n",
       "dtype: int64"
      ]
     },
     "execution_count": 13,
     "metadata": {},
     "output_type": "execute_result"
    }
   ],
   "source": [
    "print('Nonzero coefficients per archetype')\n",
    "archetypes.apply(func=lambda r: r.astype(bool).sum(), axis=1)"
   ]
  },
  {
   "cell_type": "code",
   "execution_count": 14,
   "metadata": {
    "collapsed": false,
    "deletable": true,
    "editable": true
   },
   "outputs": [
    {
     "name": "stdout",
     "output_type": "stream",
     "text": [
      "CPU times: user 500 ms, sys: 12 ms, total: 512 ms\n",
      "Wall time: 6.84 s\n",
      "CPU times: user 380 ms, sys: 0 ns, total: 380 ms\n",
      "Wall time: 892 ms\n"
     ]
    }
   ],
   "source": [
    "%time reconstructed_frame = glrm.reconstruct(full_h2o_frame, reverse_transform=True)\n",
    "reconstructed_pd_frame = reconstructed_frame.head().as_data_frame()\n",
    "\n",
    "# change column names (glrm prepends 'reconstr' to them when reconstructing) \n",
    "reconstructed_pd_frame.columns = reconstructed_pd_frame.columns.str.replace('reconstr_', '')\n",
    "\n",
    "%time reduced_frame = glrm.proj_archetypes(full_h2o_frame)\n",
    "reduced_pd_frame = reduced_frame.as_data_frame()"
   ]
  },
  {
   "cell_type": "code",
   "execution_count": 15,
   "metadata": {
    "collapsed": false,
    "deletable": true,
    "editable": true
   },
   "outputs": [
    {
     "name": "stdout",
     "output_type": "stream",
     "text": [
      "Stored 'archetypes' (DataFrame)\n",
      "Stored 'reconstructed_pd_frame' (DataFrame)\n",
      "Stored 'reduced_pd_frame' (DataFrame)\n"
     ]
    }
   ],
   "source": [
    "# these may be stored/loaded if you want only to experiment with results of GLRM, for example visualizing data\n",
    "%store reconstructed_pd_frame\n",
    "%store reduced_pd_frame"
   ]
  },
  {
   "cell_type": "markdown",
   "metadata": {
    "deletable": true,
    "editable": true
   },
   "source": [
    "## Print your *n* highest rated movies as suggested by model"
   ]
  },
  {
   "cell_type": "code",
   "execution_count": 16,
   "metadata": {
    "collapsed": false,
    "deletable": true,
    "editable": true
   },
   "outputs": [
    {
     "data": {
      "text/plain": [
       "Apple, The (Sib) (1998)                              4.666667\n",
       "400 Blows, The (Les Quatre cents coups) (1959)       4.320856\n",
       "American Beauty (1999)                               4.317386\n",
       "12 Angry Men (1957)                                  4.295455\n",
       "All About Eve (1950)                                 4.255583\n",
       "Amadeus (1984)                                       4.251809\n",
       "African Queen, The (1951)                            4.251656\n",
       "Apocalypse Now (1979)                                4.243197\n",
       "Anatomy of a Murder (1959)                           4.231156\n",
       "42 Up (1998)                                         4.227273\n",
       "American History X (1998)                            4.226562\n",
       "Almost Famous (2000)                                 4.226358\n",
       "All Quiet on the Western Front (1930)                4.194030\n",
       "Aparajito (1956)                                     4.173913\n",
       "Alien (1979)                                         4.160000\n",
       "Annie Hall (1977)                                    4.141679\n",
       "And Now for Something Completely Different (1971)    4.137472\n",
       "Apartment, The (1960)                                4.127098\n",
       "Aliens (1986)                                        4.125824\n",
       "8 1/2 (1963)                                         4.105263\n",
       "Name: 0, dtype: float64"
      ]
     },
     "execution_count": 16,
     "metadata": {},
     "output_type": "execute_result"
    }
   ],
   "source": [
    "n = 20\n",
    "\n",
    "best_movies = reconstructed_pd_frame.iloc[0].sort_values(ascending=False)[:n]\n",
    "best_movie_names = list(best_movies.index)\n",
    "best_movies"
   ]
  },
  {
   "cell_type": "markdown",
   "metadata": {
    "deletable": true,
    "editable": true
   },
   "source": [
    "# Visualization using dimensionality reduction\n",
    "\n",
    "As GLRMs can be used to decompose matrices into lower-rank components, we can use them for visualization.\n",
    "In this approach first two rows* of Y can give 2d embeddings for movies.\n",
    "\n",
    "The distance in this embedding encodes how similar movies are with respect to reviews.\n",
    "\n",
    "(* they are analogous to first two components of PCA.)"
   ]
  },
  {
   "cell_type": "code",
   "execution_count": 17,
   "metadata": {
    "collapsed": false,
    "deletable": true,
    "editable": true
   },
   "outputs": [],
   "source": [
    "visualization_pd_frame = reduced_pd_frame.iloc[:2, :]"
   ]
  },
  {
   "cell_type": "code",
   "execution_count": 18,
   "metadata": {
    "collapsed": false,
    "deletable": true,
    "editable": true
   },
   "outputs": [],
   "source": [
    "visualization_pd_frame.columns = reduced_pd_frame.columns.str.replace('reconstr_', '')\n",
    "#my_rated_movies_in_reconstructed_frame = list(set(my_ratings[0]).intersection(set(reduced_pd_frame.columns)))\n",
    "my_rated_movies_frame = visualization_pd_frame.loc[:, best_movie_names].T.dropna()"
   ]
  },
  {
   "cell_type": "markdown",
   "metadata": {},
   "source": [
    "We'll plot reduced representations of *n* reduced data points."
   ]
  },
  {
   "cell_type": "code",
   "execution_count": 19,
   "metadata": {
    "collapsed": false,
    "deletable": true,
    "editable": true
   },
   "outputs": [
    {
     "data": {
      "image/png": "[encoded data removed]",
      "text/plain": [
       "<matplotlib.figure.Figure at 0x7f2114d9ed30>"
      ]
     },
     "metadata": {},
     "output_type": "display_data"
    }
   ],
   "source": [
    "ax = my_rated_movies_frame.plot.scatter(x=0, y=1)\n",
    "my_rated_movies_frame.apply(lambda x: ax.text(*x, s=x.name, fontsize=15), axis=1)\n",
    "plt.show()"
   ]
  }
 ],
 "metadata": {
  "hide_input": false,
  "kernelspec": {
   "display_name": "Python 3",
   "language": "python",
   "name": "python3"
  },
  "language_info": {
   "codemirror_mode": {
    "name": "ipython",
    "version": 3
   },
   "file_extension": ".py",
   "mimetype": "text/x-python",
   "name": "python",
   "nbconvert_exporter": "python",
   "pygments_lexer": "ipython3",
   "version": "3.5.1"
  }
 },
 "nbformat": 4,
 "nbformat_minor": 2
}
