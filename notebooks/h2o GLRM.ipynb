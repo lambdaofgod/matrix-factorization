{
 "cells": [
  {
   "cell_type": "code",
   "execution_count": 1,
   "metadata": {
    "collapsed": false,
    "deletable": true,
    "editable": true
   },
   "outputs": [],
   "source": [
    "import h2o\n",
    "import time\n",
    "from h2o.estimators.glm import H2OGeneralizedLinearEstimator\n",
    "from h2o.estimators.gbm import H2OGradientBoostingEstimator\n",
    "from h2o.estimators.random_forest import H2ORandomForestEstimator\n",
    "\n",
    "import os \n",
    "from os.path import join, split\n",
    "\n",
    "from io import StringIO\n",
    "import pandas as pd\n",
    "\n",
    "data_path = (join(\n",
    "    split(os.getcwd())[0],'data'))"
   ]
  },
  {
   "cell_type": "code",
   "execution_count": 2,
   "metadata": {
    "collapsed": false,
    "deletable": true,
    "editable": true
   },
   "outputs": [
    {
     "name": "stdout",
     "output_type": "stream",
     "text": [
      "Checking whether there is an H2O instance running at http://192.168.1.100:54321. connected.\n"
     ]
    },
    {
     "data": {
      "text/html": [
       "<div style=\"overflow:auto\"><table style=\"width:50%\"><tr><td>H2O cluster uptime:</td>\n",
       "<td>2 mins 37 secs</td></tr>\n",
       "<tr><td>H2O cluster version:</td>\n",
       "<td>3.10.5.4</td></tr>\n",
       "<tr><td>H2O cluster version age:</td>\n",
       "<td>22 days </td></tr>\n",
       "<tr><td>H2O cluster name:</td>\n",
       "<td>kuba</td></tr>\n",
       "<tr><td>H2O cluster total nodes:</td>\n",
       "<td>1</td></tr>\n",
       "<tr><td>H2O cluster free memory:</td>\n",
       "<td>7.101 Gb</td></tr>\n",
       "<tr><td>H2O cluster total cores:</td>\n",
       "<td>4</td></tr>\n",
       "<tr><td>H2O cluster allowed cores:</td>\n",
       "<td>4</td></tr>\n",
       "<tr><td>H2O cluster status:</td>\n",
       "<td>accepting new members, healthy</td></tr>\n",
       "<tr><td>H2O connection url:</td>\n",
       "<td>http://192.168.1.100:54321</td></tr>\n",
       "<tr><td>H2O connection proxy:</td>\n",
       "<td>None</td></tr>\n",
       "<tr><td>H2O internal security:</td>\n",
       "<td>False</td></tr>\n",
       "<tr><td>Python version:</td>\n",
       "<td>3.5.1 final</td></tr></table></div>"
      ],
      "text/plain": [
       "--------------------------  ------------------------------\n",
       "H2O cluster uptime:         2 mins 37 secs\n",
       "H2O cluster version:        3.10.5.4\n",
       "H2O cluster version age:    22 days\n",
       "H2O cluster name:           kuba\n",
       "H2O cluster total nodes:    1\n",
       "H2O cluster free memory:    7.101 Gb\n",
       "H2O cluster total cores:    4\n",
       "H2O cluster allowed cores:  4\n",
       "H2O cluster status:         accepting new members, healthy\n",
       "H2O connection url:         http://192.168.1.100:54321\n",
       "H2O connection proxy:\n",
       "H2O internal security:      False\n",
       "Python version:             3.5.1 final\n",
       "--------------------------  ------------------------------"
      ]
     },
     "metadata": {},
     "output_type": "display_data"
    }
   ],
   "source": [
    "h2o.init(url='http://192.168.1.100:54321')"
   ]
  },
  {
   "cell_type": "code",
   "execution_count": 3,
   "metadata": {
    "collapsed": false,
    "deletable": true,
    "editable": true
   },
   "outputs": [
    {
     "data": {
      "text/html": [
       "<div>\n",
       "<style>\n",
       "    .dataframe thead tr:only-child th {\n",
       "        text-align: right;\n",
       "    }\n",
       "\n",
       "    .dataframe thead th {\n",
       "        text-align: left;\n",
       "    }\n",
       "\n",
       "    .dataframe tbody tr th {\n",
       "        vertical-align: top;\n",
       "    }\n",
       "</style>\n",
       "<table border=\"1\" class=\"dataframe\">\n",
       "  <thead>\n",
       "    <tr style=\"text-align: right;\">\n",
       "      <th></th>\n",
       "      <th>UserID</th>\n",
       "      <th>MovieID</th>\n",
       "      <th>Rating</th>\n",
       "      <th>Timestamp</th>\n",
       "    </tr>\n",
       "  </thead>\n",
       "  <tbody>\n",
       "    <tr>\n",
       "      <th>count</th>\n",
       "      <td>1.000209e+06</td>\n",
       "      <td>1.000209e+06</td>\n",
       "      <td>1.000209e+06</td>\n",
       "      <td>1.000209e+06</td>\n",
       "    </tr>\n",
       "    <tr>\n",
       "      <th>mean</th>\n",
       "      <td>3.024512e+03</td>\n",
       "      <td>1.865540e+03</td>\n",
       "      <td>3.581564e+00</td>\n",
       "      <td>9.722437e+08</td>\n",
       "    </tr>\n",
       "    <tr>\n",
       "      <th>std</th>\n",
       "      <td>1.728413e+03</td>\n",
       "      <td>1.096041e+03</td>\n",
       "      <td>1.117102e+00</td>\n",
       "      <td>1.215256e+07</td>\n",
       "    </tr>\n",
       "    <tr>\n",
       "      <th>min</th>\n",
       "      <td>1.000000e+00</td>\n",
       "      <td>1.000000e+00</td>\n",
       "      <td>1.000000e+00</td>\n",
       "      <td>9.567039e+08</td>\n",
       "    </tr>\n",
       "    <tr>\n",
       "      <th>25%</th>\n",
       "      <td>1.506000e+03</td>\n",
       "      <td>1.030000e+03</td>\n",
       "      <td>3.000000e+00</td>\n",
       "      <td>9.653026e+08</td>\n",
       "    </tr>\n",
       "    <tr>\n",
       "      <th>50%</th>\n",
       "      <td>3.070000e+03</td>\n",
       "      <td>1.835000e+03</td>\n",
       "      <td>4.000000e+00</td>\n",
       "      <td>9.730180e+08</td>\n",
       "    </tr>\n",
       "    <tr>\n",
       "      <th>75%</th>\n",
       "      <td>4.476000e+03</td>\n",
       "      <td>2.770000e+03</td>\n",
       "      <td>4.000000e+00</td>\n",
       "      <td>9.752209e+08</td>\n",
       "    </tr>\n",
       "    <tr>\n",
       "      <th>max</th>\n",
       "      <td>6.040000e+03</td>\n",
       "      <td>3.952000e+03</td>\n",
       "      <td>5.000000e+00</td>\n",
       "      <td>1.046455e+09</td>\n",
       "    </tr>\n",
       "  </tbody>\n",
       "</table>\n",
       "</div>"
      ],
      "text/plain": [
       "             UserID       MovieID        Rating     Timestamp\n",
       "count  1.000209e+06  1.000209e+06  1.000209e+06  1.000209e+06\n",
       "mean   3.024512e+03  1.865540e+03  3.581564e+00  9.722437e+08\n",
       "std    1.728413e+03  1.096041e+03  1.117102e+00  1.215256e+07\n",
       "min    1.000000e+00  1.000000e+00  1.000000e+00  9.567039e+08\n",
       "25%    1.506000e+03  1.030000e+03  3.000000e+00  9.653026e+08\n",
       "50%    3.070000e+03  1.835000e+03  4.000000e+00  9.730180e+08\n",
       "75%    4.476000e+03  2.770000e+03  4.000000e+00  9.752209e+08\n",
       "max    6.040000e+03  3.952000e+03  5.000000e+00  1.046455e+09"
      ]
     },
     "execution_count": 3,
     "metadata": {},
     "output_type": "execute_result"
    }
   ],
   "source": [
    "filename = join(data_path, join('ml-1m', 'ratings.dat'))\n",
    "pd_ratings_frame = pd.read_csv(filename, sep='%', names=['UserID', 'MovieID', 'Rating', 'Timestamp'])\n",
    "pd_ratings_frame.describe()"
   ]
  },
  {
   "cell_type": "code",
   "execution_count": 4,
   "metadata": {
    "collapsed": false,
    "deletable": true,
    "editable": true
   },
   "outputs": [
    {
     "data": {
      "text/html": [
       "<div>\n",
       "<style>\n",
       "    .dataframe thead tr:only-child th {\n",
       "        text-align: right;\n",
       "    }\n",
       "\n",
       "    .dataframe thead th {\n",
       "        text-align: left;\n",
       "    }\n",
       "\n",
       "    .dataframe tbody tr th {\n",
       "        vertical-align: top;\n",
       "    }\n",
       "</style>\n",
       "<table border=\"1\" class=\"dataframe\">\n",
       "  <thead>\n",
       "    <tr style=\"text-align: right;\">\n",
       "      <th></th>\n",
       "      <th>UserID</th>\n",
       "      <th>MovieID</th>\n",
       "      <th>Rating</th>\n",
       "      <th>Timestamp</th>\n",
       "      <th>Title</th>\n",
       "    </tr>\n",
       "  </thead>\n",
       "  <tbody>\n",
       "    <tr>\n",
       "      <th>0</th>\n",
       "      <td>1</td>\n",
       "      <td>1193</td>\n",
       "      <td>5</td>\n",
       "      <td>978300760</td>\n",
       "      <td>One Flew Over the Cuckoo's Nest (1975)</td>\n",
       "    </tr>\n",
       "    <tr>\n",
       "      <th>1</th>\n",
       "      <td>2</td>\n",
       "      <td>1193</td>\n",
       "      <td>5</td>\n",
       "      <td>978298413</td>\n",
       "      <td>One Flew Over the Cuckoo's Nest (1975)</td>\n",
       "    </tr>\n",
       "    <tr>\n",
       "      <th>2</th>\n",
       "      <td>12</td>\n",
       "      <td>1193</td>\n",
       "      <td>4</td>\n",
       "      <td>978220179</td>\n",
       "      <td>One Flew Over the Cuckoo's Nest (1975)</td>\n",
       "    </tr>\n",
       "    <tr>\n",
       "      <th>3</th>\n",
       "      <td>15</td>\n",
       "      <td>1193</td>\n",
       "      <td>4</td>\n",
       "      <td>978199279</td>\n",
       "      <td>One Flew Over the Cuckoo's Nest (1975)</td>\n",
       "    </tr>\n",
       "    <tr>\n",
       "      <th>4</th>\n",
       "      <td>17</td>\n",
       "      <td>1193</td>\n",
       "      <td>5</td>\n",
       "      <td>978158471</td>\n",
       "      <td>One Flew Over the Cuckoo's Nest (1975)</td>\n",
       "    </tr>\n",
       "  </tbody>\n",
       "</table>\n",
       "</div>"
      ],
      "text/plain": [
       "   UserID  MovieID  Rating  Timestamp                                   Title\n",
       "0       1     1193       5  978300760  One Flew Over the Cuckoo's Nest (1975)\n",
       "1       2     1193       5  978298413  One Flew Over the Cuckoo's Nest (1975)\n",
       "2      12     1193       4  978220179  One Flew Over the Cuckoo's Nest (1975)\n",
       "3      15     1193       4  978199279  One Flew Over the Cuckoo's Nest (1975)\n",
       "4      17     1193       5  978158471  One Flew Over the Cuckoo's Nest (1975)"
      ]
     },
     "execution_count": 4,
     "metadata": {},
     "output_type": "execute_result"
    }
   ],
   "source": [
    "pd_movies_frame = pd.read_csv(join(data_path, 'ml-1m', 'movies.dat'), sep='%', names=['MovieID', 'Title', 'Genres'], encoding='latin-1')\n",
    "\n",
    "pd_all_frame = pd_ratings_frame.merge(pd_movies_frame[['MovieID', 'Title']], on='MovieID')\n",
    "pd_all_frame.head()"
   ]
  },
  {
   "cell_type": "code",
   "execution_count": 5,
   "metadata": {
    "collapsed": false,
    "deletable": true,
    "editable": true
   },
   "outputs": [
    {
     "data": {
      "text/html": [
       "<div>\n",
       "<style>\n",
       "    .dataframe thead tr:only-child th {\n",
       "        text-align: right;\n",
       "    }\n",
       "\n",
       "    .dataframe thead th {\n",
       "        text-align: left;\n",
       "    }\n",
       "\n",
       "    .dataframe tbody tr th {\n",
       "        vertical-align: top;\n",
       "    }\n",
       "</style>\n",
       "<table border=\"1\" class=\"dataframe\">\n",
       "  <thead>\n",
       "    <tr style=\"text-align: right;\">\n",
       "      <th>Title</th>\n",
       "      <th>$1,000,000 Duck (1971)</th>\n",
       "      <th>'Night Mother (1986)</th>\n",
       "      <th>'Til There Was You (1997)</th>\n",
       "      <th>'burbs, The (1989)</th>\n",
       "      <th>...And Justice for All (1979)</th>\n",
       "      <th>1-900 (1994)</th>\n",
       "      <th>10 Things I Hate About You (1999)</th>\n",
       "      <th>101 Dalmatians (1961)</th>\n",
       "      <th>101 Dalmatians (1996)</th>\n",
       "      <th>12 Angry Men (1957)</th>\n",
       "      <th>...</th>\n",
       "      <th>Young Poisoner's Handbook, The (1995)</th>\n",
       "      <th>Young Sherlock Holmes (1985)</th>\n",
       "      <th>Young and Innocent (1937)</th>\n",
       "      <th>Your Friends and Neighbors (1998)</th>\n",
       "      <th>Zachariah (1971)</th>\n",
       "      <th>Zed &amp; Two Noughts, A (1985)</th>\n",
       "      <th>Zero Effect (1998)</th>\n",
       "      <th>Zero Kelvin (Kjærlighetens kjøtere) (1995)</th>\n",
       "      <th>Zeus and Roxanne (1997)</th>\n",
       "      <th>eXistenZ (1999)</th>\n",
       "    </tr>\n",
       "    <tr>\n",
       "      <th>UserID</th>\n",
       "      <th></th>\n",
       "      <th></th>\n",
       "      <th></th>\n",
       "      <th></th>\n",
       "      <th></th>\n",
       "      <th></th>\n",
       "      <th></th>\n",
       "      <th></th>\n",
       "      <th></th>\n",
       "      <th></th>\n",
       "      <th></th>\n",
       "      <th></th>\n",
       "      <th></th>\n",
       "      <th></th>\n",
       "      <th></th>\n",
       "      <th></th>\n",
       "      <th></th>\n",
       "      <th></th>\n",
       "      <th></th>\n",
       "      <th></th>\n",
       "      <th></th>\n",
       "    </tr>\n",
       "  </thead>\n",
       "  <tbody>\n",
       "    <tr>\n",
       "      <th>1</th>\n",
       "      <td>NaN</td>\n",
       "      <td>NaN</td>\n",
       "      <td>NaN</td>\n",
       "      <td>NaN</td>\n",
       "      <td>NaN</td>\n",
       "      <td>NaN</td>\n",
       "      <td>NaN</td>\n",
       "      <td>NaN</td>\n",
       "      <td>NaN</td>\n",
       "      <td>NaN</td>\n",
       "      <td>...</td>\n",
       "      <td>NaN</td>\n",
       "      <td>NaN</td>\n",
       "      <td>NaN</td>\n",
       "      <td>NaN</td>\n",
       "      <td>NaN</td>\n",
       "      <td>NaN</td>\n",
       "      <td>NaN</td>\n",
       "      <td>NaN</td>\n",
       "      <td>NaN</td>\n",
       "      <td>NaN</td>\n",
       "    </tr>\n",
       "    <tr>\n",
       "      <th>2</th>\n",
       "      <td>NaN</td>\n",
       "      <td>NaN</td>\n",
       "      <td>NaN</td>\n",
       "      <td>NaN</td>\n",
       "      <td>NaN</td>\n",
       "      <td>NaN</td>\n",
       "      <td>NaN</td>\n",
       "      <td>NaN</td>\n",
       "      <td>NaN</td>\n",
       "      <td>NaN</td>\n",
       "      <td>...</td>\n",
       "      <td>NaN</td>\n",
       "      <td>NaN</td>\n",
       "      <td>NaN</td>\n",
       "      <td>NaN</td>\n",
       "      <td>NaN</td>\n",
       "      <td>NaN</td>\n",
       "      <td>NaN</td>\n",
       "      <td>NaN</td>\n",
       "      <td>NaN</td>\n",
       "      <td>NaN</td>\n",
       "    </tr>\n",
       "    <tr>\n",
       "      <th>3</th>\n",
       "      <td>NaN</td>\n",
       "      <td>NaN</td>\n",
       "      <td>NaN</td>\n",
       "      <td>NaN</td>\n",
       "      <td>NaN</td>\n",
       "      <td>NaN</td>\n",
       "      <td>NaN</td>\n",
       "      <td>NaN</td>\n",
       "      <td>NaN</td>\n",
       "      <td>NaN</td>\n",
       "      <td>...</td>\n",
       "      <td>NaN</td>\n",
       "      <td>NaN</td>\n",
       "      <td>NaN</td>\n",
       "      <td>NaN</td>\n",
       "      <td>NaN</td>\n",
       "      <td>NaN</td>\n",
       "      <td>NaN</td>\n",
       "      <td>NaN</td>\n",
       "      <td>NaN</td>\n",
       "      <td>NaN</td>\n",
       "    </tr>\n",
       "    <tr>\n",
       "      <th>4</th>\n",
       "      <td>NaN</td>\n",
       "      <td>NaN</td>\n",
       "      <td>NaN</td>\n",
       "      <td>NaN</td>\n",
       "      <td>NaN</td>\n",
       "      <td>NaN</td>\n",
       "      <td>NaN</td>\n",
       "      <td>NaN</td>\n",
       "      <td>NaN</td>\n",
       "      <td>NaN</td>\n",
       "      <td>...</td>\n",
       "      <td>NaN</td>\n",
       "      <td>NaN</td>\n",
       "      <td>NaN</td>\n",
       "      <td>NaN</td>\n",
       "      <td>NaN</td>\n",
       "      <td>NaN</td>\n",
       "      <td>NaN</td>\n",
       "      <td>NaN</td>\n",
       "      <td>NaN</td>\n",
       "      <td>NaN</td>\n",
       "    </tr>\n",
       "    <tr>\n",
       "      <th>5</th>\n",
       "      <td>NaN</td>\n",
       "      <td>NaN</td>\n",
       "      <td>NaN</td>\n",
       "      <td>NaN</td>\n",
       "      <td>NaN</td>\n",
       "      <td>NaN</td>\n",
       "      <td>NaN</td>\n",
       "      <td>NaN</td>\n",
       "      <td>NaN</td>\n",
       "      <td>NaN</td>\n",
       "      <td>...</td>\n",
       "      <td>NaN</td>\n",
       "      <td>NaN</td>\n",
       "      <td>NaN</td>\n",
       "      <td>NaN</td>\n",
       "      <td>NaN</td>\n",
       "      <td>NaN</td>\n",
       "      <td>NaN</td>\n",
       "      <td>NaN</td>\n",
       "      <td>NaN</td>\n",
       "      <td>NaN</td>\n",
       "    </tr>\n",
       "  </tbody>\n",
       "</table>\n",
       "<p>5 rows × 3706 columns</p>\n",
       "</div>"
      ],
      "text/plain": [
       "Title   $1,000,000 Duck (1971)  'Night Mother (1986)  \\\n",
       "UserID                                                 \n",
       "1                          NaN                   NaN   \n",
       "2                          NaN                   NaN   \n",
       "3                          NaN                   NaN   \n",
       "4                          NaN                   NaN   \n",
       "5                          NaN                   NaN   \n",
       "\n",
       "Title   'Til There Was You (1997)  'burbs, The (1989)  \\\n",
       "UserID                                                  \n",
       "1                             NaN                 NaN   \n",
       "2                             NaN                 NaN   \n",
       "3                             NaN                 NaN   \n",
       "4                             NaN                 NaN   \n",
       "5                             NaN                 NaN   \n",
       "\n",
       "Title   ...And Justice for All (1979)  1-900 (1994)  \\\n",
       "UserID                                                \n",
       "1                                 NaN           NaN   \n",
       "2                                 NaN           NaN   \n",
       "3                                 NaN           NaN   \n",
       "4                                 NaN           NaN   \n",
       "5                                 NaN           NaN   \n",
       "\n",
       "Title   10 Things I Hate About You (1999)  101 Dalmatians (1961)  \\\n",
       "UserID                                                             \n",
       "1                                     NaN                    NaN   \n",
       "2                                     NaN                    NaN   \n",
       "3                                     NaN                    NaN   \n",
       "4                                     NaN                    NaN   \n",
       "5                                     NaN                    NaN   \n",
       "\n",
       "Title   101 Dalmatians (1996)  12 Angry Men (1957)       ...         \\\n",
       "UserID                                                   ...          \n",
       "1                         NaN                  NaN       ...          \n",
       "2                         NaN                  NaN       ...          \n",
       "3                         NaN                  NaN       ...          \n",
       "4                         NaN                  NaN       ...          \n",
       "5                         NaN                  NaN       ...          \n",
       "\n",
       "Title   Young Poisoner's Handbook, The (1995)  Young Sherlock Holmes (1985)  \\\n",
       "UserID                                                                        \n",
       "1                                         NaN                           NaN   \n",
       "2                                         NaN                           NaN   \n",
       "3                                         NaN                           NaN   \n",
       "4                                         NaN                           NaN   \n",
       "5                                         NaN                           NaN   \n",
       "\n",
       "Title   Young and Innocent (1937)  Your Friends and Neighbors (1998)  \\\n",
       "UserID                                                                 \n",
       "1                             NaN                                NaN   \n",
       "2                             NaN                                NaN   \n",
       "3                             NaN                                NaN   \n",
       "4                             NaN                                NaN   \n",
       "5                             NaN                                NaN   \n",
       "\n",
       "Title   Zachariah (1971)  Zed & Two Noughts, A (1985)  Zero Effect (1998)  \\\n",
       "UserID                                                                      \n",
       "1                    NaN                          NaN                 NaN   \n",
       "2                    NaN                          NaN                 NaN   \n",
       "3                    NaN                          NaN                 NaN   \n",
       "4                    NaN                          NaN                 NaN   \n",
       "5                    NaN                          NaN                 NaN   \n",
       "\n",
       "Title   Zero Kelvin (Kjærlighetens kjøtere) (1995)  Zeus and Roxanne (1997)  \\\n",
       "UserID                                                                        \n",
       "1                                              NaN                      NaN   \n",
       "2                                              NaN                      NaN   \n",
       "3                                              NaN                      NaN   \n",
       "4                                              NaN                      NaN   \n",
       "5                                              NaN                      NaN   \n",
       "\n",
       "Title   eXistenZ (1999)  \n",
       "UserID                   \n",
       "1                   NaN  \n",
       "2                   NaN  \n",
       "3                   NaN  \n",
       "4                   NaN  \n",
       "5                   NaN  \n",
       "\n",
       "[5 rows x 3706 columns]"
      ]
     },
     "execution_count": 5,
     "metadata": {},
     "output_type": "execute_result"
    }
   ],
   "source": [
    "pd_ratings_frame = pd_all_frame.pivot(index='UserID', columns='Title', values='Rating')\n",
    "pd_ratings_frame.head()"
   ]
  },
  {
   "cell_type": "code",
   "execution_count": 6,
   "metadata": {
    "collapsed": false,
    "deletable": true,
    "editable": true
   },
   "outputs": [
    {
     "name": "stdout",
     "output_type": "stream",
     "text": [
      "Parse progress: |█████████████████████████████████████████████████████████| 100%\n"
     ]
    }
   ],
   "source": [
    "ratings_frame = (h2o.H2OFrame(pd_ratings_frame,\n",
    "                  column_types=list(map(lambda x: 'float', range(pd_ratings_frame.shape[1]))),\n",
    "                  na_strings=['nan']))"
   ]
  },
  {
   "cell_type": "markdown",
   "metadata": {
    "deletable": true,
    "editable": true
   },
   "source": [
    "## Your ratings"
   ]
  },
  {
   "cell_type": "code",
   "execution_count": 41,
   "metadata": {
    "collapsed": false,
    "deletable": true,
    "editable": true
   },
   "outputs": [
    {
     "data": {
      "text/html": [
       "<div>\n",
       "<style>\n",
       "    .dataframe thead tr:only-child th {\n",
       "        text-align: right;\n",
       "    }\n",
       "\n",
       "    .dataframe thead th {\n",
       "        text-align: left;\n",
       "    }\n",
       "\n",
       "    .dataframe tbody tr th {\n",
       "        vertical-align: top;\n",
       "    }\n",
       "</style>\n",
       "<table border=\"1\" class=\"dataframe\">\n",
       "  <thead>\n",
       "    <tr style=\"text-align: right;\">\n",
       "      <th></th>\n",
       "      <th>Rating</th>\n",
       "      <th>Title</th>\n",
       "      <th>UserId</th>\n",
       "    </tr>\n",
       "  </thead>\n",
       "  <tbody>\n",
       "    <tr>\n",
       "      <th>0</th>\n",
       "      <td>5</td>\n",
       "      <td>Matrix, The (1999)</td>\n",
       "      <td>0</td>\n",
       "    </tr>\n",
       "    <tr>\n",
       "      <th>1</th>\n",
       "      <td>4</td>\n",
       "      <td>Godfather, The (1972)</td>\n",
       "      <td>0</td>\n",
       "    </tr>\n",
       "    <tr>\n",
       "      <th>2</th>\n",
       "      <td>5</td>\n",
       "      <td>Fear and Loathing in Las Vegas (1998)</td>\n",
       "      <td>0</td>\n",
       "    </tr>\n",
       "    <tr>\n",
       "      <th>3</th>\n",
       "      <td>4</td>\n",
       "      <td>Trainspotting (1996)</td>\n",
       "      <td>0</td>\n",
       "    </tr>\n",
       "    <tr>\n",
       "      <th>4</th>\n",
       "      <td>5</td>\n",
       "      <td>Clockwork Orange, A (1971)</td>\n",
       "      <td>0</td>\n",
       "    </tr>\n",
       "    <tr>\n",
       "      <th>5</th>\n",
       "      <td>5</td>\n",
       "      <td>Full Metal Jacket (1987)</td>\n",
       "      <td>0</td>\n",
       "    </tr>\n",
       "    <tr>\n",
       "      <th>6</th>\n",
       "      <td>4</td>\n",
       "      <td>Total Recall (1990)</td>\n",
       "      <td>0</td>\n",
       "    </tr>\n",
       "    <tr>\n",
       "      <th>7</th>\n",
       "      <td>5</td>\n",
       "      <td>Alien (1979)</td>\n",
       "      <td>0</td>\n",
       "    </tr>\n",
       "    <tr>\n",
       "      <th>8</th>\n",
       "      <td>4</td>\n",
       "      <td>GoodFellas (1990)</td>\n",
       "      <td>0</td>\n",
       "    </tr>\n",
       "    <tr>\n",
       "      <th>9</th>\n",
       "      <td>5</td>\n",
       "      <td>American Psycho (2000)</td>\n",
       "      <td>0</td>\n",
       "    </tr>\n",
       "    <tr>\n",
       "      <th>10</th>\n",
       "      <td>3</td>\n",
       "      <td>Home Alone 2: Lost in New York (1992)</td>\n",
       "      <td>0</td>\n",
       "    </tr>\n",
       "    <tr>\n",
       "      <th>11</th>\n",
       "      <td>5</td>\n",
       "      <td>2001: A Space Odyssey (1968)</td>\n",
       "      <td>0</td>\n",
       "    </tr>\n",
       "    <tr>\n",
       "      <th>12</th>\n",
       "      <td>1</td>\n",
       "      <td>Star Wars: Episode I - The Phantom Menace (1999)</td>\n",
       "      <td>0</td>\n",
       "    </tr>\n",
       "    <tr>\n",
       "      <th>13</th>\n",
       "      <td>2</td>\n",
       "      <td>Conan the Barbarian (1982)</td>\n",
       "      <td>0</td>\n",
       "    </tr>\n",
       "  </tbody>\n",
       "</table>\n",
       "</div>"
      ],
      "text/plain": [
       "    Rating                                             Title  UserId\n",
       "0        5                                Matrix, The (1999)       0\n",
       "1        4                             Godfather, The (1972)       0\n",
       "2        5             Fear and Loathing in Las Vegas (1998)       0\n",
       "3        4                              Trainspotting (1996)       0\n",
       "4        5                        Clockwork Orange, A (1971)       0\n",
       "5        5                          Full Metal Jacket (1987)       0\n",
       "6        4                               Total Recall (1990)       0\n",
       "7        5                                      Alien (1979)       0\n",
       "8        4                                 GoodFellas (1990)       0\n",
       "9        5                            American Psycho (2000)       0\n",
       "10       3             Home Alone 2: Lost in New York (1992)       0\n",
       "11       5                      2001: A Space Odyssey (1968)       0\n",
       "12       1  Star Wars: Episode I - The Phantom Menace (1999)       0\n",
       "13       2                        Conan the Barbarian (1982)       0"
      ]
     },
     "execution_count": 41,
     "metadata": {},
     "output_type": "execute_result"
    }
   ],
   "source": [
    "my_ratings = list(zip(*[\n",
    "  ['Matrix, The (1999)', 5],\n",
    "  ['Godfather, The (1972)', 4],\n",
    "  ['Fear and Loathing in Las Vegas (1998)', 5],\n",
    "  ['Trainspotting (1996)', 4],\n",
    "  ['Clockwork Orange, A (1971)', 5],\n",
    "  ['Full Metal Jacket (1987)', 5],\n",
    "  ['Total Recall (1990)', 4],\n",
    "  ['Alien (1979)', 5],\n",
    "  ['GoodFellas (1990)', 4],\n",
    "  ['American Psycho (2000)', 5],\n",
    "  ['Home Alone 2: Lost in New York (1992)', 3],\n",
    "  ['2001: A Space Odyssey (1968)', 5],\n",
    "  ['Star Wars: Episode I - The Phantom Menace (1999)', 1],\n",
    "  ['Conan the Barbarian (1982)', 2]]))\n",
    "\n",
    "my_ratings_df = pd.DataFrame(data={'UserId': [0 for __ in range(len(my_ratings[0]))], 'Title': my_ratings[0], 'Rating': my_ratings[1]})\n",
    "my_ratings_df"
   ]
  },
  {
   "cell_type": "code",
   "execution_count": 42,
   "metadata": {
    "collapsed": false,
    "deletable": true,
    "editable": true
   },
   "outputs": [],
   "source": [
    "pivoted_df = (my_ratings_df\n",
    "              .pivot(index='UserId', columns='Title', values='Rating')\n",
    "              )"
   ]
  },
  {
   "cell_type": "code",
   "execution_count": 43,
   "metadata": {
    "collapsed": false,
    "deletable": true,
    "editable": true
   },
   "outputs": [
    {
     "data": {
      "text/plain": [
       "(1, 3706)"
      ]
     },
     "execution_count": 43,
     "metadata": {},
     "output_type": "execute_result"
    }
   ],
   "source": [
    "full_my_df = pivoted_df.reindex(columns=pd_ratings_frame.columns)\n",
    "full_my_df.shape"
   ]
  },
  {
   "cell_type": "markdown",
   "metadata": {
    "deletable": true,
    "editable": true
   },
   "source": [
    "## Your recommendations H2O Frame"
   ]
  },
  {
   "cell_type": "code",
   "execution_count": 44,
   "metadata": {
    "collapsed": false,
    "deletable": true,
    "editable": true
   },
   "outputs": [
    {
     "name": "stdout",
     "output_type": "stream",
     "text": [
      "Parse progress: |█████████████████████████████████████████████████████████| 100%\n"
     ]
    }
   ],
   "source": [
    "pd_full_frame = pd.concat([full_my_df, pd_ratings_frame], axis=0)\n",
    "\n",
    "full_h2o_frame = h2o.H2OFrame(pd_full_frame,\n",
    "                            header=-1,\n",
    "                            column_types=['numeric' for __ in  range(pd_full_frame.shape[1])],\n",
    "                            na_strings=['nan'])"
   ]
  },
  {
   "cell_type": "markdown",
   "metadata": {
    "deletable": true,
    "editable": true
   },
   "source": [
    "## Training GLRM model"
   ]
  },
  {
   "cell_type": "code",
   "execution_count": 45,
   "metadata": {
    "collapsed": true,
    "deletable": true,
    "editable": true
   },
   "outputs": [],
   "source": [
    "from h2o.estimators import H2OGeneralizedLowRankEstimator"
   ]
  },
  {
   "cell_type": "code",
   "execution_count": 46,
   "metadata": {
    "collapsed": false,
    "deletable": true,
    "editable": true
   },
   "outputs": [
    {
     "name": "stdout",
     "output_type": "stream",
     "text": [
      "glrm Model Build progress: |██████████████████████████████████████████████| 100%\n",
      "CPU times: user 1.72 s, sys: 84 ms, total: 1.8 s\n",
      "Wall time: 2min 36s\n"
     ]
    }
   ],
   "source": [
    "glrm = H2OGeneralizedLowRankEstimator(\n",
    "  k=10,\n",
    "  regularization_x='L1',\n",
    "  regularization_y='L1',\n",
    "  transform='Demean',\n",
    "  max_iterations=50)\n",
    "\n",
    "%time glrm.train(training_frame=full_h2o_frame)"
   ]
  },
  {
   "cell_type": "markdown",
   "metadata": {
    "deletable": true,
    "editable": true
   },
   "source": [
    "Unfortunately loading GLRM models seems to crash H2O..."
   ]
  },
  {
   "cell_type": "markdown",
   "metadata": {
    "deletable": true,
    "editable": true
   },
   "source": [
    "model_path = h2o.save_model(model=glrm, path=join(data_path, 'glrm_model'))\n",
    "\n",
    "model_path\n",
    "\n",
    "h2o.load_model(model_path)"
   ]
  },
  {
   "cell_type": "code",
   "execution_count": 53,
   "metadata": {
    "collapsed": false,
    "deletable": true,
    "editable": true
   },
   "outputs": [
    {
     "name": "stdout",
     "output_type": "stream",
     "text": [
      "CPU times: user 532 ms, sys: 8 ms, total: 540 ms\n",
      "Wall time: 5.68 s\n"
     ]
    }
   ],
   "source": [
    "%time reconstructed_frame = glrm.reconstruct(full_h2o_frame, reverse_transform=True)\n",
    "reconstructed_pd_frame = reconstructed_frame.head().as_data_frame()\n",
    "reconstructed_pd_frame.columns = reconstructed_pd_frame.columns.str.replace('reconstr_', '')\n"
   ]
  },
  {
   "cell_type": "code",
   "execution_count": 54,
   "metadata": {
    "collapsed": false,
    "deletable": true,
    "editable": true
   },
   "outputs": [
    {
     "name": "stdout",
     "output_type": "stream",
     "text": [
      "Stored 'reconstructed_pd_frame' (DataFrame)\n"
     ]
    }
   ],
   "source": [
    "%store reconstructed_pd_frame"
   ]
  },
  {
   "cell_type": "markdown",
   "metadata": {},
   "source": [
    "## Print your favorite 50 movies according to model "
   ]
  },
  {
   "cell_type": "code",
   "execution_count": 60,
   "metadata": {
    "collapsed": false
   },
   "outputs": [
    {
     "data": {
      "text/plain": [
       "American History X (1998)               5.375186\n",
       "13th Warrior, The (1999)                5.301784\n",
       "American Beauty (1999)                  5.239200\n",
       "American Pie (1999)                     5.211827\n",
       "American Graffiti (1973)                5.180299\n",
       "8MM (1999)                              5.176998\n",
       "Amityville Horror, The (1979)           5.127135\n",
       "Abyss, The (1989)                       5.105018\n",
       "Amistad (1997)                          5.051575\n",
       "Any Given Sunday (1999)                 5.023965\n",
       "Apocalypse Now (1979)                   5.017250\n",
       "187 (1997)                              5.012982\n",
       "Aliens (1986)                           5.004416\n",
       "Anatomy of a Murder (1959)              4.972820\n",
       "39 Steps, The (1935)                    4.967766\n",
       "Angel and the Badman (1947)             4.959243\n",
       "Albino Alligator (1996)                 4.945949\n",
       "Amityville II: The Possession (1982)    4.937399\n",
       "Anchors Aweigh (1945)                   4.932135\n",
       "Alien (1979)                            4.901682\n",
       "Name: 0, dtype: float64"
      ]
     },
     "execution_count": 60,
     "metadata": {},
     "output_type": "execute_result"
    }
   ],
   "source": [
    "reconstructed_pd_frame.iloc[0].sort_values(ascending=False)[:20]"
   ]
  },
  {
   "cell_type": "markdown",
   "metadata": {},
   "source": [
    "Woah! I dont't think I'd like American Pie, but I actually really think that American History X, American Beauty and Apocalypse Now are great movies."
   ]
  }
 ],
 "metadata": {
  "hide_input": false,
  "kernelspec": {
   "display_name": "Python 3",
   "language": "python",
   "name": "python3"
  },
  "language_info": {
   "codemirror_mode": {
    "name": "ipython",
    "version": 3
   },
   "file_extension": ".py",
   "mimetype": "text/x-python",
   "name": "python",
   "nbconvert_exporter": "python",
   "pygments_lexer": "ipython3",
   "version": "3.5.1"
  }
 },
 "nbformat": 4,
 "nbformat_minor": 2
}
